{
 "cells": [
  {
   "cell_type": "markdown",
   "id": "190be33c",
   "metadata": {},
   "source": [
    "Coding Exercise 2:"
   ]
  },
  {
   "cell_type": "code",
   "execution_count": 2,
   "id": "0c7867a8",
   "metadata": {},
   "outputs": [
    {
     "name": "stdout",
     "output_type": "stream",
     "text": [
      "100\n",
      "90\n"
     ]
    }
   ],
   "source": [
    "print(50+50)\n",
    "print(100-10)"
   ]
  },
  {
   "cell_type": "code",
   "execution_count": 8,
   "id": "150c03d3",
   "metadata": {},
   "outputs": [
    {
     "name": "stdout",
     "output_type": "stream",
     "text": [
      "36\n",
      "0\n",
      "46656\n",
      "36\n"
     ]
    }
   ],
   "source": [
    "print(30+6)\n",
    "print(6^6)\n",
    "print(6**6)\n",
    "print(6+6+6+6+6+6)"
   ]
  },
  {
   "cell_type": "code",
   "execution_count": 6,
   "id": "543fe9e4",
   "metadata": {},
   "outputs": [
    {
     "data": {
      "text/plain": [
       "0"
      ]
     },
     "execution_count": 6,
     "metadata": {},
     "output_type": "execute_result"
    }
   ],
   "source": [
    "6^6"
   ]
  },
  {
   "cell_type": "code",
   "execution_count": 9,
   "id": "e5b210d9",
   "metadata": {},
   "outputs": [
    {
     "name": "stdout",
     "output_type": "stream",
     "text": [
      "Hello World\n"
     ]
    }
   ],
   "source": [
    "print(\"Hello World\")"
   ]
  },
  {
   "cell_type": "code",
   "execution_count": 10,
   "id": "3c02ba18",
   "metadata": {},
   "outputs": [
    {
     "name": "stdout",
     "output_type": "stream",
     "text": [
      "Hello World : 10\n"
     ]
    }
   ],
   "source": [
    "print(\"Hello World : 10\")"
   ]
  },
  {
   "cell_type": "markdown",
   "id": "ba82d686",
   "metadata": {},
   "source": [
    "p = debt\n",
    "r = interst rate\n",
    "every month p increased by p * (r/12) and decreases by 10000"
   ]
  },
  {
   "cell_type": "code",
   "execution_count": 24,
   "id": "e5a223aa",
   "metadata": {},
   "outputs": [
    {
     "name": "stdout",
     "output_type": "stream",
     "text": [
      "9957\n"
     ]
    }
   ],
   "source": [
    "import math\n",
    "p = 800000\n",
    "r = 6\n",
    "l = 103\n",
    "\n",
    "payment = 0\n",
    "\n",
    "r = r/100\n",
    "r = r/12\n",
    "\n",
    "m = (p*r*((1+r)**l))/(((1+r)**l)-1)\n",
    "print(math.ceil(m))\n",
    "\n"
   ]
  },
  {
   "cell_type": "code",
   "execution_count": null,
   "id": "70670493",
   "metadata": {},
   "outputs": [],
   "source": []
  }
 ],
 "metadata": {
  "kernelspec": {
   "display_name": "Python 3",
   "language": "python",
   "name": "python3"
  },
  "language_info": {
   "codemirror_mode": {
    "name": "ipython",
    "version": 3
   },
   "file_extension": ".py",
   "mimetype": "text/x-python",
   "name": "python",
   "nbconvert_exporter": "python",
   "pygments_lexer": "ipython3",
   "version": "3.8.11"
  }
 },
 "nbformat": 4,
 "nbformat_minor": 5
}
