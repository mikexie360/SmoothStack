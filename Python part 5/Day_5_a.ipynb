{
 "cells": [
  {
   "cell_type": "code",
   "execution_count": 3,
   "id": "d376bd56",
   "metadata": {},
   "outputs": [
    {
     "name": "stdout",
     "output_type": "stream",
     "text": [
      "Over\n",
      "Normal\n",
      "Under\n"
     ]
    }
   ],
   "source": [
    "def BMICalc(weight, height):\n",
    "    BMI = weight/ height**2\n",
    "    if(BMI < 18.5):\n",
    "        return \"Under\"\n",
    "    elif(BMI < 25.0):\n",
    "        return \"Normal\"\n",
    "    elif(BMI < 30.0):\n",
    "        return \"Over\"\n",
    "    else:\n",
    "        return \"Obese\"\n",
    "print(BMICalc(80, 1.73))\n",
    "print(BMICalc(55, 1.58))\n",
    "print(BMICalc(49, 1.91))"
   ]
  },
  {
   "cell_type": "code",
   "execution_count": null,
   "id": "fcb6142e",
   "metadata": {},
   "outputs": [],
   "source": []
  }
 ],
 "metadata": {
  "kernelspec": {
   "display_name": "Python 3",
   "language": "python",
   "name": "python3"
  },
  "language_info": {
   "codemirror_mode": {
    "name": "ipython",
    "version": 3
   },
   "file_extension": ".py",
   "mimetype": "text/x-python",
   "name": "python",
   "nbconvert_exporter": "python",
   "pygments_lexer": "ipython3",
   "version": "3.8.11"
  }
 },
 "nbformat": 4,
 "nbformat_minor": 5
}
