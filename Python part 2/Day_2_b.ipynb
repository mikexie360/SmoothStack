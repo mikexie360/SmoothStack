{
 "cells": [
  {
   "cell_type": "code",
   "execution_count": 3,
   "id": "a2e5278d",
   "metadata": {},
   "outputs": [
    {
     "name": "stdout",
     "output_type": "stream",
     "text": [
      "[1, 'hello world', 3.14]\n"
     ]
    }
   ],
   "source": [
    "\"\"\"\n",
    "1.\tCreate a list with one number, one word and one float value. Display the output of the list.\n",
    "\"\"\"\n",
    "list1 = [1,\"hello world\",3.14]\n",
    "print(list1)"
   ]
  },
  {
   "cell_type": "code",
   "execution_count": 5,
   "id": "ec7afdea",
   "metadata": {},
   "outputs": [
    {
     "name": "stdout",
     "output_type": "stream",
     "text": [
      "2\n"
     ]
    }
   ],
   "source": [
    "\"\"\"\n",
    "2.\tI have a nested list [1,1[1,2]], how to grab the value of 2 from the list.\n",
    "\"\"\"\n",
    "\n",
    "nestedlist = [1,1,[1,2]]\n",
    "print(nestedlist[2][1])"
   ]
  },
  {
   "cell_type": "code",
   "execution_count": 7,
   "id": "52954fa1",
   "metadata": {},
   "outputs": [
    {
     "name": "stdout",
     "output_type": "stream",
     "text": [
      "['b', 'c']\n"
     ]
    }
   ],
   "source": [
    "\"\"\"\n",
    "3.\tlst=['a','b','c'] What is the result of lst[1:]?\n",
    "\"\"\"\n",
    "\n",
    "lst = ['a','b','c']\n",
    "print(lst[1:])"
   ]
  },
  {
   "cell_type": "code",
   "execution_count": 8,
   "id": "3db28a80",
   "metadata": {},
   "outputs": [
    {
     "name": "stdout",
     "output_type": "stream",
     "text": [
      "{'monday': 1, 'tuesday': 2, 'wednesday': 3, 'thursday': 4, 'friday': 5}\n"
     ]
    }
   ],
   "source": [
    "\"\"\"\n",
    "4.\tCreate a dictionary with weekdays an keys and week index numbers as values.do assign dictionary to a variable\n",
    "\"\"\"\n",
    "\n",
    "dct = {\"monday\":1, \"tuesday\":2, \"wednesday\":3, \"thursday\":4, \"friday\":5}\n",
    "print(dct)"
   ]
  },
  {
   "cell_type": "code",
   "execution_count": 13,
   "id": "3e57fae1",
   "metadata": {},
   "outputs": [
    {
     "name": "stdout",
     "output_type": "stream",
     "text": [
      "2\n"
     ]
    }
   ],
   "source": [
    "\"\"\"\n",
    "5.\tD={‘k1’:[1,2,3]} what is the output of d[k1][1]\n",
    "\"\"\"\n",
    "D={'k1':[1,2,3]}\n",
    "print(D['k1'][1])"
   ]
  },
  {
   "cell_type": "code",
   "execution_count": 14,
   "id": "757e1ef2",
   "metadata": {},
   "outputs": [
    {
     "name": "stdout",
     "output_type": "stream",
     "text": [
      "(1, [2, 3])\n"
     ]
    }
   ],
   "source": [
    "\"\"\"\n",
    "6.\tCan you create a list [1,[2,3]] into a tuple\n",
    "\"\"\"\n",
    "\n",
    "lst = [1,[2,3]]\n",
    "print(tuple(lst))"
   ]
  },
  {
   "cell_type": "code",
   "execution_count": 19,
   "id": "8250c37f",
   "metadata": {},
   "outputs": [
    {
     "name": "stdout",
     "output_type": "stream",
     "text": [
      "{'i', 's', 'M', 'p'}\n"
     ]
    }
   ],
   "source": [
    "\"\"\"\n",
    "7.\tWith a single set function can you turn the word ‘Mississippi’ to distinct character word.\n",
    "\"\"\"\n",
    "word = 'Mississippi'\n",
    "st = set(word)\n",
    "print(st)"
   ]
  },
  {
   "cell_type": "code",
   "execution_count": 21,
   "id": "5c8cd98b",
   "metadata": {},
   "outputs": [
    {
     "name": "stdout",
     "output_type": "stream",
     "text": [
      "{'X', 's', 'p', 'i', 'M'}\n"
     ]
    }
   ],
   "source": [
    "\"\"\"\n",
    "8.\tCan you add an element ‘X’ to the above created set\n",
    "\"\"\"\n",
    "st.add('X')\n",
    "print(st)"
   ]
  },
  {
   "cell_type": "code",
   "execution_count": 25,
   "id": "ecf45491",
   "metadata": {},
   "outputs": [
    {
     "name": "stdout",
     "output_type": "stream",
     "text": [
      "{1, 2, 3}\n"
     ]
    }
   ],
   "source": [
    "\"\"\"\n",
    "9.\tOutput of set([1,1,2,3])\n",
    "\"\"\"\n",
    "\n",
    "st =([1,1,2,3])\n",
    "print(set(st))"
   ]
  },
  {
   "cell_type": "code",
   "execution_count": 26,
   "id": "18e89465",
   "metadata": {},
   "outputs": [
    {
     "name": "stdout",
     "output_type": "stream",
     "text": [
      "[2002, 2009, 2016, 2023, 2037, 2044, 2051, 2058, 2072, 2079, 2086, 2093, 2107, 2114, 2121, 2128, 2142, 2149, 2156, 2163, 2177, 2184, 2191, 2198, 2212, 2219, 2226, 2233, 2247, 2254, 2261, 2268, 2282, 2289, 2296, 2303, 2317, 2324, 2331, 2338, 2352, 2359, 2366, 2373, 2387, 2394, 2401, 2408, 2422, 2429, 2436, 2443, 2457, 2464, 2471, 2478, 2492, 2499, 2506, 2513, 2527, 2534, 2541, 2548, 2562, 2569, 2576, 2583, 2597, 2604, 2611, 2618, 2632, 2639, 2646, 2653, 2667, 2674, 2681, 2688, 2702, 2709, 2716, 2723, 2737, 2744, 2751, 2758, 2772, 2779, 2786, 2793, 2807, 2814, 2821, 2828, 2842, 2849, 2856, 2863, 2877, 2884, 2891, 2898, 2912, 2919, 2926, 2933, 2947, 2954, 2961, 2968, 2982, 2989, 2996, 3003, 3017, 3024, 3031, 3038, 3052, 3059, 3066, 3073, 3087, 3094, 3101, 3108, 3122, 3129, 3136, 3143, 3157, 3164, 3171, 3178, 3192, 3199]\n"
     ]
    }
   ],
   "source": [
    "\"\"\"\n",
    "Write a program which will find all such numbers which are divisible by 7 but are not a multiple of 5,between 2000 and 3200 (both included).\n",
    "\tThe numbers obtained should be printed in a comma-separated sequence on a single line.\n",
    "\tHints: \n",
    "\tConsider use range(#begin, #end) method\n",
    "\n",
    "\"\"\"\n",
    "\n",
    "lst = []\n",
    "for x in range(2000, 3201):\n",
    "    if((x % 7 == 0) and (x %5 != 0)):\n",
    "        lst.append(x)\n",
    "\n",
    "print(lst)"
   ]
  },
  {
   "cell_type": "code",
   "execution_count": 48,
   "id": "7419b10b",
   "metadata": {},
   "outputs": [
    {
     "name": "stdout",
     "output_type": "stream",
     "text": [
      "8\n",
      "40320\n"
     ]
    }
   ],
   "source": [
    "\"\"\"\n",
    "\tWrite a program which can compute the factorial of a given numbers.\n",
    "\tThe results should be printed in a comma-separated sequence on a single line.\n",
    "\tSuppose the following input is supplied to the program:\n",
    "\t8\n",
    "\tThen, the output should be:\n",
    "\t40320\n",
    "\t\n",
    "\n",
    "\tHints:\n",
    "\tIn case of input data being supplied to the question, it should be assumed to be a console input.\n",
    "\n",
    "\"\"\"\n",
    "\n",
    "def fact(x:int)->int:\n",
    "    # base case\n",
    "    if x == 0:\n",
    "        return 1\n",
    "    else:\n",
    "        return x * fact(x-1)\n",
    "# get user input\n",
    "\n",
    "#x = int(raw_input())\n",
    "\n",
    "print(fact(int(input())))"
   ]
  },
  {
   "cell_type": "code",
   "execution_count": 49,
   "id": "ce78214b",
   "metadata": {},
   "outputs": [
    {
     "name": "stdout",
     "output_type": "stream",
     "text": [
      "8\n",
      "{1: 1, 2: 4, 3: 9, 4: 16, 5: 25, 6: 36, 7: 49, 8: 64}\n"
     ]
    }
   ],
   "source": [
    "\"\"\"\n",
    "With a given integral number n, write a program to generate a dictionary that contains (i, i*i) such that is an integral number between 1 and n (both included). and then the program should print the dictionary.\n",
    "\tSuppose the following input is supplied to the program:\n",
    "\t8\n",
    "\tThen, the output should be:\n",
    "\t{1: 1, 2: 4, 3: 9, 4: 16, 5: 25, 6: 36, 7: 49, 8: 64}\n",
    "\t\n",
    "\n",
    "\tHints:\n",
    "\tIn case of input data being supplied to the question, it should be assumed to be a console input.\n",
    "\tConsider use dict()\n",
    "\n",
    "\"\"\"\n",
    "\n",
    "def squaredict(i:int) -> dict:\n",
    "    dct = dict()\n",
    "    for x in range(1, i+1):\n",
    "        dct[x] = x*x\n",
    "    return(dct)\n",
    "\n",
    "print(squaredict(int(input())))"
   ]
  },
  {
   "cell_type": "code",
   "execution_count": 51,
   "id": "aca6b01a",
   "metadata": {},
   "outputs": [
    {
     "name": "stdout",
     "output_type": "stream",
     "text": [
      "1,2,3,4,5\n",
      "['1', '2', '3', '4', '5']\n",
      "('1', '2', '3', '4', '5')\n"
     ]
    }
   ],
   "source": [
    "\"\"\"\n",
    "Write a program which accepts a sequence of comma-separated numbers from console and generate a list and a tuple which contains every number.\n",
    "\tSuppose the following input is supplied to the program:\n",
    "\t34,67,55,33,12,98\n",
    "\tThen, the output should be:\n",
    "\t['34', '67', '55', '33', '12', '98']\n",
    "\t('34', '67', '55', '33', '12', '98')\n",
    "\n",
    "\"\"\"\n",
    "\n",
    "userInput = input()\n",
    "userInput = userInput.split(\",\")\n",
    "\n",
    "lst = userInput\n",
    "tple =tuple(lst)\n",
    "\n",
    "print(lst)\n",
    "print(tple)\n"
   ]
  },
  {
   "cell_type": "code",
   "execution_count": 57,
   "id": "81a6b3e9",
   "metadata": {},
   "outputs": [
    {
     "name": "stdout",
     "output_type": "stream",
     "text": [
      "hello world\n",
      "HELLO WORLD\n"
     ]
    }
   ],
   "source": [
    "\"\"\"\n",
    "Question:\n",
    "\tDefine a class which has at least two methods:\n",
    "\tgetString: to get a string from console input\n",
    "\tprintString: to print the string in upper case.\n",
    "\tAlso please include simple test function to test the class methods.\n",
    "\t\n",
    "\n",
    "\tHints:\n",
    "\tUse __init__ method to construct some parameters\n",
    "\n",
    "\"\"\"\n",
    "\n",
    "class printStringClass(object):\n",
    "    def __init__(self):\n",
    "        self.s = \"\"\n",
    "    def getString(self):\n",
    "        self.s = input()\n",
    "    def printString(self):\n",
    "        print(self.s.upper())\n",
    "def test():\n",
    "    testObj = printStringClass()\n",
    "    testObj.getString()\n",
    "    testObj.printString()\n",
    "test()\n"
   ]
  },
  {
   "cell_type": "code",
   "execution_count": null,
   "id": "0e85b37c",
   "metadata": {},
   "outputs": [],
   "source": []
  }
 ],
 "metadata": {
  "kernelspec": {
   "display_name": "Python 3",
   "language": "python",
   "name": "python3"
  },
  "language_info": {
   "codemirror_mode": {
    "name": "ipython",
    "version": 3
   },
   "file_extension": ".py",
   "mimetype": "text/x-python",
   "name": "python",
   "nbconvert_exporter": "python",
   "pygments_lexer": "ipython3",
   "version": "3.8.11"
  }
 },
 "nbformat": 4,
 "nbformat_minor": 5
}
