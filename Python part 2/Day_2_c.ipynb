{
 "cells": [
  {
   "cell_type": "code",
   "execution_count": 8,
   "id": "6b705f4b",
   "metadata": {},
   "outputs": [
    {
     "name": "stdout",
     "output_type": "stream",
     "text": [
      "Crowded\n",
      "\n"
     ]
    }
   ],
   "source": [
    "\"\"\"\n",
    "Three is a Crowd\n",
    "•\tMake a list of names that includes at least four people.\n",
    "•\tWrite an if test that prints a message about the room being crowded, if there are more than three people in your list.\n",
    "•\tModify your list so that there are only two people in it. Use one of the methods for removing people from the list, don't just redefine the list.\n",
    "•\tRun your if test again. There should be no output this time, because there are less than three people in the list.\n",
    "•\tBonus: Store your if test in a function called something like crowd_test.\n",
    "\"\"\"\n",
    "def crowd_test(lst):\n",
    "    if len(lst) > 3:\n",
    "        print(\"Crowded\")\n",
    "\n",
    "def ThreeIsaCrowd():\n",
    "    lstNames = [\"Abe\", \"Bob\", \"Charlie\",\"David\"]\n",
    "    crowd_test(lstNames)\n",
    "    lstNames.pop()\n",
    "    lstNames.pop()\n",
    "    crowd_test(lstNames)\n",
    "    return \"\"\n",
    "print(ThreeIsaCrowd())"
   ]
  },
  {
   "cell_type": "code",
   "execution_count": 11,
   "id": "131f44e2",
   "metadata": {},
   "outputs": [
    {
     "name": "stdout",
     "output_type": "stream",
     "text": [
      "Crowded\n",
      "Not Crowded\n",
      "\n"
     ]
    }
   ],
   "source": [
    "\"\"\"\n",
    "Three is a Crowd - Part 2\n",
    "•\tSave your program from Three is a Crowd under a new name.\n",
    "•\tAdd an else statement to your if tests. If the else statement is run, have it print a message that the room is not very crowded.\n",
    "\"\"\"\n",
    "\n",
    "def crowd_test_Part2(lst):\n",
    "    if len(lst) > 3:\n",
    "        print(\"Crowded\")\n",
    "    else:\n",
    "        print(\"Not Crowded\")\n",
    "\n",
    "def ThreeIsaCrowdPart2():\n",
    "    lstNames = [\"Abe\", \"Bob\", \"Charlie\",\"David\"]\n",
    "    crowd_test_Part2(lstNames)\n",
    "    lstNames.pop()\n",
    "    lstNames.pop()\n",
    "    crowd_test_Part2(lstNames)\n",
    "    return \"\"\n",
    "print(ThreeIsaCrowdPart2())"
   ]
  },
  {
   "cell_type": "code",
   "execution_count": 14,
   "id": "1281a384",
   "metadata": {},
   "outputs": [
    {
     "name": "stdout",
     "output_type": "stream",
     "text": [
      "Mob\n",
      "Crowded\n",
      "Not Crowded\n",
      "Empty\n",
      "\n"
     ]
    }
   ],
   "source": [
    "\"\"\"\n",
    "Three is a Crowd - Part 2\n",
    "•\tSave your program from Three is a Crowd under a new name.\n",
    "•\tAdd an else statement to your if tests. If the else statement is run, have it print a message that the room is not very crowded.\n",
    "\"\"\"\n",
    "\n",
    "def crowd_test_Part3(lst):\n",
    "    if len(lst) > 5:\n",
    "        print(\"Mob\")\n",
    "    elif len(lst) >= 3:\n",
    "        print(\"Crowded\")\n",
    "    elif len(lst) >= 1:\n",
    "        print(\"Not Crowded\")\n",
    "    else:\n",
    "        print(\"Empty\")\n",
    "\n",
    "def SixIsaMob():\n",
    "    lstNames = [\"Abe\", \"Bob\", \"Charlie\",\"David\",\"Eve\",\"Fred\"]\n",
    "    crowd_test_Part3(lstNames)\n",
    "    lstNames.pop()\n",
    "    lstNames.pop()\n",
    "    crowd_test_Part3(lstNames)\n",
    "    lstNames.pop()\n",
    "    lstNames.pop()\n",
    "    crowd_test_Part3(lstNames)\n",
    "    lstNames.pop()\n",
    "    lstNames.pop()\n",
    "    crowd_test_Part3(lstNames)\n",
    "    return \"\"\n",
    "print(SixIsaMob())"
   ]
  },
  {
   "cell_type": "code",
   "execution_count": null,
   "id": "9a2a865a",
   "metadata": {},
   "outputs": [],
   "source": []
  }
 ],
 "metadata": {
  "kernelspec": {
   "display_name": "Python 3",
   "language": "python",
   "name": "python3"
  },
  "language_info": {
   "codemirror_mode": {
    "name": "ipython",
    "version": 3
   },
   "file_extension": ".py",
   "mimetype": "text/x-python",
   "name": "python",
   "nbconvert_exporter": "python",
   "pygments_lexer": "ipython3",
   "version": "3.8.11"
  }
 },
 "nbformat": 4,
 "nbformat_minor": 5
}
