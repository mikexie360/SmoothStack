{
 "cells": [
  {
   "cell_type": "code",
   "execution_count": 6,
   "metadata": {},
   "outputs": [
    {
     "name": "stdout",
     "output_type": "stream",
     "text": [
      "r\n"
     ]
    }
   ],
   "source": [
    "\"\"\" \n",
    "1.\tWrite a string that returns just the letter ‘r’ from ‘Hello World’\n",
    "For example, ‘Hello World’[0] returns ‘H’.You should write one line of code. Don’t assign a variable name to the string.\n",
    "\"\"\"\n",
    "print('Hello World'[8])"
   ]
  },
  {
   "cell_type": "code",
   "execution_count": 7,
   "metadata": {},
   "outputs": [
    {
     "name": "stdout",
     "output_type": "stream",
     "text": [
      "ink\n"
     ]
    }
   ],
   "source": [
    "\"\"\"\n",
    "2.\tString slicing to grab the word ‘ink’ from the word  ‘thinker’\n",
    "\"\"\"\n",
    "print('thinker'[2:5])"
   ]
  },
  {
   "cell_type": "code",
   "execution_count": 8,
   "metadata": {},
   "outputs": [
    {
     "name": "stdout",
     "output_type": "stream",
     "text": [
      "e\n"
     ]
    }
   ],
   "source": [
    "\"\"\"\n",
    "S=’hello’,what is the output of h[1]\n",
    "\"\"\"\n",
    "S='hello'\n",
    "print(S[1])"
   ]
  },
  {
   "cell_type": "code",
   "execution_count": 9,
   "metadata": {},
   "outputs": [
    {
     "name": "stdout",
     "output_type": "stream",
     "text": [
      "mmy\n"
     ]
    }
   ],
   "source": [
    "\"\"\"\n",
    "3.\tS=’Sammy’ what is the output of s[2:]”\n",
    "\"\"\"\n",
    "S=\"Sammy\"\n",
    "print(S[2:])"
   ]
  },
  {
   "cell_type": "code",
   "execution_count": 10,
   "metadata": {},
   "outputs": [
    {
     "name": "stdout",
     "output_type": "stream",
     "text": [
      "{'s', 'p', 'i', 'M'}\n"
     ]
    }
   ],
   "source": [
    "\"\"\"\n",
    "3.\tS=’Sammy’ what is the output of s[2:]”\n",
    "\"\"\"\n",
    "print(set('Mississippi'))"
   ]
  },
  {
   "cell_type": "code",
   "execution_count": 11,
   "metadata": {},
   "outputs": [
    {
     "name": "stdout",
     "output_type": "stream",
     "text": [
      "N\n",
      "Y\n",
      "Y\n"
     ]
    }
   ],
   "source": [
    "\"\"\"\n",
    "5.\tThe word or whole phrase which has the same sequence of letters in both directions is called a palindrome. Here are few examples:\n",
    "\n",
    "Stats\n",
    "Amore, Roma\n",
    "No 'x' in Nixon\n",
    "Was it a cat I saw?\n",
    "\n",
    "As you see, case of the letters is ignored. Spaces and punctuations are ignored too.\n",
    "Your goal in this programming exercise is to determine, whether the phrase represents a palindrome or not.\n",
    "Input data contains number of phrases in the first line.\n",
    "Next lines contain one phrase each.\n",
    "Answer should have a single letter (space separated) for each phrase: Y if it is a palindrome and N if not.\n",
    "Example:\n",
    "input data:\n",
    "3\n",
    "Stars\n",
    "O, a kak Uwakov lil vo kawu kakao!\n",
    "Some men interpret nine memos\n",
    "\n",
    "answer:\n",
    "N Y Y\n",
    "\n",
    "Can you please derive a python code.\n",
    "\"\"\"\n",
    "\n",
    "# import regular expressions\n",
    "import re\n",
    "\n",
    "def palindromeChecker(inputString: str) -> str:\n",
    "    # get rid of space\n",
    "    mystr = inputString.replace(\" \",\"\")\n",
    "    # get rid of punctuations\n",
    "    mystr = re.sub(r'[\\W]', \"\", mystr)\n",
    "    # make all lower case\n",
    "    mystr = mystr.lower()\n",
    "    # check\n",
    "    i = 0\n",
    "    j = len(mystr) - 1\n",
    "    while (i < j):\n",
    "        if (mystr[i] != mystr[j]):\n",
    "            return 'N'\n",
    "        i += 1\n",
    "        j -= 1\n",
    "    return 'Y'\n",
    "\n",
    "print(palindromeChecker(\"Stars\")) # N\n",
    "print(palindromeChecker(\"O, a kak Uwakov lil vo kawu kakao!\")) # Y\n",
    "print(palindromeChecker(\"Some men interpret nine memos\")) # Y\n"
   ]
  },
  {
   "cell_type": "code",
   "execution_count": null,
   "metadata": {},
   "outputs": [],
   "source": []
  },
  {
   "cell_type": "code",
   "execution_count": null,
   "metadata": {},
   "outputs": [],
   "source": []
  }
 ],
 "metadata": {
  "kernelspec": {
   "display_name": "Python 3",
   "language": "python",
   "name": "python3"
  },
  "language_info": {
   "codemirror_mode": {
    "name": "ipython",
    "version": 3
   },
   "file_extension": ".py",
   "mimetype": "text/x-python",
   "name": "python",
   "nbconvert_exporter": "python",
   "pygments_lexer": "ipython3",
   "version": "3.8.11"
  }
 },
 "nbformat": 4,
 "nbformat_minor": 2
}
