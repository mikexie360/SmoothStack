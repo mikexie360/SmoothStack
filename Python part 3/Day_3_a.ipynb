{
 "cells": [
  {
   "cell_type": "code",
   "execution_count": 1,
   "id": "82e33849",
   "metadata": {},
   "outputs": [
    {
     "name": "stdout",
     "output_type": "stream",
     "text": [
      "[1505, 1540, 1575, 1610, 1645, 1680, 1715, 1750, 1785, 1820, 1855, 1890, 1925, 1960, 1995, 2030, 2065, 2100, 2135, 2170, 2205, 2240, 2275, 2310, 2345, 2380, 2415, 2450, 2485, 2520, 2555, 2590, 2625, 2660, 2695]\n"
     ]
    }
   ],
   "source": [
    "\"\"\"\n",
    "1. Write a Python program to find those numbers which are divisible by 7 and multiple of 5, between 1500 and 2700 (both included). Go to the editor\n",
    "\"\"\"\n",
    "lst = []\n",
    "for x in range(1500, 2701):\n",
    "    if((x % 7 == 0) and (x %5 == 0)):\n",
    "        lst.append(x)\n",
    "\n",
    "print(lst)"
   ]
  },
  {
   "cell_type": "code",
   "execution_count": 6,
   "id": "6dc2222a",
   "metadata": {},
   "outputs": [
    {
     "name": "stdout",
     "output_type": "stream",
     "text": [
      "140.0\n",
      "7.222222222222222\n"
     ]
    }
   ],
   "source": [
    "\"\"\"\n",
    "2.\t Write a Python program to convert temperatures to and from celsius, fahrenheit. Go to the editor\n",
    "[ Formula : c/5 = f-32/9 [ where c = temperature in celsius and f = temperature in fahrenheit ] \n",
    "Expected Output : \n",
    "60°C is 140 in Fahrenheit\n",
    "45°F is 7 in Celsius \n",
    "\"\"\"\n",
    "\n",
    "def FtoC(T):\n",
    "    return 5*((T-32)/9)\n",
    "def CtoF(T):\n",
    "    return ((T/5)*9)+32\n",
    "print(CtoF(60))\n",
    "print(FtoC(45))"
   ]
  },
  {
   "cell_type": "code",
   "execution_count": 2,
   "id": "3a8d70ff",
   "metadata": {},
   "outputs": [
    {
     "name": "stdout",
     "output_type": "stream",
     "text": [
      "1\n",
      "2\n",
      "3\n",
      "4\n",
      "5\n",
      "Well guessed!\n"
     ]
    }
   ],
   "source": [
    "\"\"\"\n",
    "3.\t Write a Python program to guess a number between 1 to 9. Go to the editor\n",
    "Note : User is prompted to enter a guess. If the user guesses wrong then the prompt appears again until the guess is correct, on successful guess, user will get a \"Well guessed!\" message, and the program will exit.\n",
    "\"\"\"\n",
    "from random import randint\n",
    "\n",
    "randomNumber = randint(1,10)\n",
    "\n",
    "guessed = False\n",
    "while(not guessed):\n",
    "    uinput = input()\n",
    "    if(int(uinput) == randomNumber):\n",
    "        print(\"Well guessed!\")\n",
    "        break;\n",
    "\n",
    "\n"
   ]
  },
  {
   "cell_type": "code",
   "execution_count": 4,
   "id": "d5c7836a",
   "metadata": {},
   "outputs": [
    {
     "name": "stdout",
     "output_type": "stream",
     "text": [
      "*\n",
      "**\n",
      "***\n",
      "****\n",
      "*****\n",
      "****\n",
      "***\n",
      "**\n",
      "*\n",
      "\n"
     ]
    }
   ],
   "source": [
    "\"\"\"\n",
    "4.\n",
    "\"\"\"\n",
    "str =\"\"\n",
    "for x in range(1,6):\n",
    "    str += \"*\"*x\n",
    "    str += \"\\n\"\n",
    "for x in range(4,0,-1):\n",
    "    str += \"*\"*x\n",
    "    str += \"\\n\"\n",
    "print(str)"
   ]
  },
  {
   "cell_type": "code",
   "execution_count": 3,
   "id": "016c2a06",
   "metadata": {},
   "outputs": [
    {
     "name": "stdout",
     "output_type": "stream",
     "text": [
      "1234\n",
      "4321\n"
     ]
    }
   ],
   "source": [
    "\"\"\"\n",
    "6.    Write a Python program that accepts a word from the user and reverse it. Go to the editor\n",
    "\"\"\"\n",
    "\n",
    "userInput=input()\n",
    "print(userInput[::-1])"
   ]
  },
  {
   "cell_type": "code",
   "execution_count": 6,
   "id": "29fa8c43",
   "metadata": {},
   "outputs": [
    {
     "name": "stdout",
     "output_type": "stream",
     "text": [
      "Number of even numbers: 4\n",
      "Number of odd numbers: 5\n"
     ]
    }
   ],
   "source": [
    "\"\"\"\n",
    "7.\t Write a Python program to count the number of even and odd numbers from a series of numbers. Go to the editor\n",
    "Sample numbers : numbers = (1, 2, 3, 4, 5, 6, 7, 8, 9) \n",
    "Expected Output : \n",
    "Number of even numbers : 5\n",
    "Number of odd numbers : 4\n",
    "\"\"\"\n",
    "\n",
    "# numbers is a set?\n",
    "numbers = (1, 2, 3, 4, 5, 6, 7, 8, 9) \n",
    "even = 0\n",
    "odd = 0\n",
    "for x in numbers:\n",
    "    if (x % 2) == 0:\n",
    "        even += 1\n",
    "    else:\n",
    "        odd += 1\n",
    "print(\"Number of even numbers:\", even)\n",
    "print(\"Number of odd numbers:\", odd)"
   ]
  },
  {
   "cell_type": "code",
   "execution_count": 8,
   "id": "73039d7e",
   "metadata": {},
   "outputs": [
    {
     "name": "stdout",
     "output_type": "stream",
     "text": [
      "1452\n",
      "<class 'int'>\n",
      "11.23\n",
      "<class 'float'>\n",
      "3\n",
      "<class 'int'>\n",
      "True\n",
      "<class 'bool'>\n",
      "w3resource\n",
      "<class 'str'>\n",
      "(0, -1)\n",
      "<class 'tuple'>\n",
      "[5, 12]\n",
      "<class 'list'>\n",
      "{'class': 'V', 'section': 'A'}\n",
      "<class 'dict'>\n"
     ]
    }
   ],
   "source": [
    "\"\"\"\n",
    "8.\tWrite a Python program that prints each item and its corresponding type from the following list.\n",
    "Sample List : datalist = [1452, 11.23, 1+2j, True, 'w3resource', (0, -1), [5, 12], {\"class\":'V', \"section\":'A'}]\n",
    " \n",
    "\"\"\"\n",
    "datalist = [1452, 11.23, 1+2, True, 'w3resource', (0, -1), [5, 12], {\"class\":'V', \"section\":'A'}]\n",
    "\n",
    "for x in datalist:\n",
    "    print(x)\n",
    "    print(type(x))"
   ]
  },
  {
   "cell_type": "code",
   "execution_count": 3,
   "id": "85ff1439",
   "metadata": {},
   "outputs": [
    {
     "name": "stdout",
     "output_type": "stream",
     "text": [
      "0 1 2 4 5 \n"
     ]
    }
   ],
   "source": [
    "\"\"\"\n",
    "9. datalist = [1452, 11.23, 1+2j, True, 'w3resource', (0, -1), [5, 12], {\"class\":'V', \"section\":'A'}]\n",
    "\"\"\"\n",
    "string = \"\"\n",
    "for x in range(0,7):\n",
    "    if (x == 3 or x == 6):\n",
    "        continue\n",
    "    string += str(x)\n",
    "    string += \" \"\n",
    "print(string)"
   ]
  },
  {
   "cell_type": "code",
   "execution_count": null,
   "id": "a56c35d7",
   "metadata": {},
   "outputs": [],
   "source": []
  }
 ],
 "metadata": {
  "kernelspec": {
   "display_name": "Python 3",
   "language": "python",
   "name": "python3"
  },
  "language_info": {
   "codemirror_mode": {
    "name": "ipython",
    "version": 3
   },
   "file_extension": ".py",
   "mimetype": "text/x-python",
   "name": "python",
   "nbconvert_exporter": "python",
   "pygments_lexer": "ipython3",
   "version": "3.8.11"
  }
 },
 "nbformat": 4,
 "nbformat_minor": 5
}
