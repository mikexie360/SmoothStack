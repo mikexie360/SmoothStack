{
 "cells": [
  {
   "cell_type": "code",
   "execution_count": 3,
   "id": "74edcfe8",
   "metadata": {},
   "outputs": [
    {
     "name": "stdout",
     "output_type": "stream",
     "text": [
      "Hello World\n"
     ]
    }
   ],
   "source": [
    "\"\"\"\n",
    "1.Create a function func() which prints a text ‘Hello World’\n",
    "\"\"\"\n",
    "\n",
    "def func():\n",
    "    print(\"Hello World\")\n",
    "func()"
   ]
  },
  {
   "cell_type": "code",
   "execution_count": 5,
   "id": "b52c86ea",
   "metadata": {},
   "outputs": [
    {
     "name": "stdout",
     "output_type": "stream",
     "text": [
      "Hi My name is Google\n"
     ]
    }
   ],
   "source": [
    "\"\"\"\n",
    "2.Create a function which func1(name)  which takes a value name and prints the output “Hi My name is Google’\n",
    "\"\"\"\n",
    "def func1(name):\n",
    "    print('Hi My name is {name}'.format(name=name))\n",
    "func1(\"Google\")"
   ]
  },
  {
   "cell_type": "code",
   "execution_count": 6,
   "id": "a44e9eaa",
   "metadata": {},
   "outputs": [
    {
     "data": {
      "text/plain": [
       "'good bye'"
      ]
     },
     "execution_count": 6,
     "metadata": {},
     "output_type": "execute_result"
    }
   ],
   "source": [
    "\"\"\"\n",
    "3.Define a function func3(x,y,z) that takes three arguments x,y,z where z is true it will return x and when z is false it should return y . func3(‘hello’goodbye’,false)\n",
    "\"\"\"\n",
    "def func3(x,y,z):\n",
    "    if z:\n",
    "        return x\n",
    "    else:\n",
    "        return y\n",
    "func3(\"hello\", \"good bye\", False)"
   ]
  },
  {
   "cell_type": "code",
   "execution_count": 7,
   "id": "82e6bf7c",
   "metadata": {},
   "outputs": [
    {
     "data": {
      "text/plain": [
       "20"
      ]
     },
     "execution_count": 7,
     "metadata": {},
     "output_type": "execute_result"
    }
   ],
   "source": [
    "\"\"\"\n",
    "4.define a function func4(x,y) which returns the product of both the values.\n",
    "\"\"\"\n",
    "def func4(x,y):\n",
    "    return x*y\n",
    "func4(4,5)"
   ]
  },
  {
   "cell_type": "code",
   "execution_count": 8,
   "id": "58168bf7",
   "metadata": {},
   "outputs": [
    {
     "data": {
      "text/plain": [
       "True"
      ]
     },
     "execution_count": 8,
     "metadata": {},
     "output_type": "execute_result"
    }
   ],
   "source": [
    "\"\"\"\n",
    "5.define a function called as is_even that takes one argument , which returns true when even values is passed and false if it is not.\"\"\"\n",
    "def is_even(x):\n",
    "    if(x%2 == 0):\n",
    "        return True\n",
    "    else:\n",
    "        return False\n",
    "is_even(2)"
   ]
  },
  {
   "cell_type": "code",
   "execution_count": 9,
   "id": "9155ad95",
   "metadata": {},
   "outputs": [],
   "source": [
    "\"\"\"\n",
    "6.define a function that takes two arguments ,and returns true if the first value is greater than the second value and returns false if it is less than or equal to the second.\n",
    "\"\"\"\n",
    "\n",
    "def six(x,y):\n",
    "    if(x>y):\n",
    "        return True\n",
    "    else:\n",
    "        return False\n"
   ]
  },
  {
   "cell_type": "code",
   "execution_count": 13,
   "id": "58c2d7c3",
   "metadata": {},
   "outputs": [
    {
     "data": {
      "text/plain": [
       "30"
      ]
     },
     "execution_count": 13,
     "metadata": {},
     "output_type": "execute_result"
    }
   ],
   "source": [
    "\"\"\"\n",
    "7.Define a function which takes arbitrary number of arguments and returns the sum of the arguments.\n",
    "\"\"\"\n",
    "\n",
    "def seven(*argv):\n",
    "    sum = 0\n",
    "    for i in argv:\n",
    "        sum += i\n",
    "    return sum\n",
    "seven(5,5,5,5,10)"
   ]
  },
  {
   "cell_type": "code",
   "execution_count": 15,
   "id": "2ffcebaf",
   "metadata": {},
   "outputs": [
    {
     "data": {
      "text/plain": [
       "[2, 4, 6, 8]"
      ]
     },
     "execution_count": 15,
     "metadata": {},
     "output_type": "execute_result"
    }
   ],
   "source": [
    "\"\"\"\n",
    "8.Define a function which takes arbitrary number of arguments and returns a list containing only the arguments that are even.\n",
    "\"\"\"\n",
    "\n",
    "def eight(*argv):\n",
    "    evenlst = []\n",
    "    for i in argv:\n",
    "        if (i % 2 ==0):\n",
    "            evenlst.append(i)\n",
    "    return evenlst\n",
    "eight(1,2,3,4,5,6,7,8,9)"
   ]
  },
  {
   "cell_type": "code",
   "execution_count": 27,
   "id": "64aae57e",
   "metadata": {},
   "outputs": [
    {
     "data": {
      "text/plain": [
       "'AbCdEfG'"
      ]
     },
     "execution_count": 27,
     "metadata": {},
     "output_type": "execute_result"
    }
   ],
   "source": [
    "\"\"\"\n",
    "9.Define a function that takes a string and returns a matching string where every even letter is uppercase and every odd letter is lowercase \n",
    "\"\"\"\n",
    "\n",
    "def nine(inputstr):\n",
    "    strbuilder = \"\"\n",
    "    flag = True\n",
    "    for i in range(len(inputstr)):\n",
    "        if i %2 ==0:\n",
    "            strbuilder = strbuilder + inputstr[i].upper()\n",
    "        else:\n",
    "            strbuilder = strbuilder + inputstr[i].lower()\n",
    "    return strbuilder\n",
    "nine(\"ABCDEFG\")"
   ]
  },
  {
   "cell_type": "code",
   "execution_count": 28,
   "id": "647fc06d",
   "metadata": {},
   "outputs": [
    {
     "data": {
      "text/plain": [
       "10"
      ]
     },
     "execution_count": 28,
     "metadata": {},
     "output_type": "execute_result"
    }
   ],
   "source": [
    "\"\"\"\n",
    "10.Write a function which gives lesser than a given number if both the numbers are even, but returns greater if one or both or odd.\n",
    "\"\"\"\n",
    "\n",
    "def ten(x,y):\n",
    "    if (x %2 ==0 and y%2==0):\n",
    "        if (x > y):\n",
    "            return y\n",
    "        else:\n",
    "            return x\n",
    "    else:\n",
    "        if (x > y):\n",
    "            return x\n",
    "        else:\n",
    "            return y\n",
    "ten(5,10)"
   ]
  },
  {
   "cell_type": "code",
   "execution_count": 33,
   "id": "cf4ce919",
   "metadata": {},
   "outputs": [
    {
     "data": {
      "text/plain": [
       "True"
      ]
     },
     "execution_count": 33,
     "metadata": {},
     "output_type": "execute_result"
    }
   ],
   "source": [
    "\"\"\"\n",
    "11.Write a function which takes  two-strings and returns true if both the strings start with the same letter.\n",
    "\"\"\"\n",
    "def eleven(a,b):\n",
    "    if a[0] == b[0]:\n",
    "        return True\n",
    "    else:\n",
    "        return False\n",
    "eleven(\"abc\",\"ads\")\n"
   ]
  },
  {
   "cell_type": "code",
   "execution_count": 61,
   "id": "0b74346c",
   "metadata": {},
   "outputs": [
    {
     "data": {
      "text/plain": [
       "21"
      ]
     },
     "execution_count": 61,
     "metadata": {},
     "output_type": "execute_result"
    }
   ],
   "source": [
    "\"\"\"\n",
    "12.Given a value,return a value which is twice as far as other side of 7\n",
    "\"\"\"\n",
    "def twelve(x):\n",
    "    difference = x -7\n",
    "    return ((0-(difference))*2) + 7\n",
    "twelve(0)"
   ]
  },
  {
   "cell_type": "code",
   "execution_count": 66,
   "id": "ecc1c545",
   "metadata": {},
   "outputs": [
    {
     "data": {
      "text/plain": [
       "'AsdFasdfasdf'"
      ]
     },
     "execution_count": 66,
     "metadata": {},
     "output_type": "execute_result"
    }
   ],
   "source": [
    "\"\"\"\n",
    "13.A function that capitalizes first and fourth character of a word in a string.\n",
    "\"\"\"\n",
    "def thirteen(x):\n",
    "    return x[0].upper() + x[1:3] + x[3:4].upper() + x[4:]\n",
    "thirteen(\"asdfasdfasdf\")"
   ]
  },
  {
   "cell_type": "code",
   "execution_count": null,
   "id": "a8554afe",
   "metadata": {},
   "outputs": [],
   "source": []
  }
 ],
 "metadata": {
  "kernelspec": {
   "display_name": "Python 3",
   "language": "python",
   "name": "python3"
  },
  "language_info": {
   "codemirror_mode": {
    "name": "ipython",
    "version": 3
   },
   "file_extension": ".py",
   "mimetype": "text/x-python",
   "name": "python",
   "nbconvert_exporter": "python",
   "pygments_lexer": "ipython3",
   "version": "3.8.11"
  }
 },
 "nbformat": 4,
 "nbformat_minor": 5
}
