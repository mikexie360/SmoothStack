{
 "cells": [
  {
   "cell_type": "code",
   "execution_count": 2,
   "id": "8ce83383",
   "metadata": {},
   "outputs": [
    {
     "name": "stdout",
     "output_type": "stream",
     "text": [
      "[['Order Number', 'Book Title and Author', 'Quantity', 'Price per Item'], [34587, 'Learning Python, Mark Lutz', 4, 40.95], [98762, 'Programming Python, Mark Lutz', 5, 56.8], [77226, 'Head First Python, Paul Barry', 3, 32.95], [88112, 'Einfuhrung in Python3, Bernd Klein', 3, 24.99]]\n"
     ]
    }
   ],
   "source": [
    "\"\"\"\n",
    "1.\tImagine an accounting routine used in a book shop. It works on a list with sublists, which look like this: \n",
    "Order Number\tBook Title and Author\tQuantity\tPrice per Item\n",
    "34587\tLearning Python, Mark Lutz\t4\t40.95\n",
    "98762\tProgramming Python, Mark Lutz\t5\t56.80\n",
    "77226\tHead First Python, Paul Barry\t3\t32.95\n",
    "88112\tEinführung in Python3, Bernd Klein\t3\t24.99\n",
    "\n",
    "\"\"\"\n",
    "\"\"\"\n",
    "Write a Python program, which returns a list with 2-tuples. Each tuple consists of a the order number and the product of the price per items and the quantity. The product should be increased by 10,- € if the value of the order is smaller than 100,00 €. \n",
    "Write a Python program using lambda and map.\n",
    "\"\"\"\n",
    "\n",
    "lst = [[\"Order Number\", \"Book Title and Author\", \"Quantity\",\"Price per Item\"],[34587,\"Learning Python, Mark Lutz\", 4, 40.95],[98762,\"Programming Python, Mark Lutz\",5,56.80],[77226,\"Head First Python, Paul Barry\", 3,32.95],[88112,\"Einfuhrung in Python3, Bernd Klein\", 3, 24.99]]\n",
    "print(lst)"
   ]
  },
  {
   "cell_type": "code",
   "execution_count": 6,
   "id": "79ee99e8",
   "metadata": {},
   "outputs": [
    {
     "data": {
      "text/plain": [
       "[(34587, 163.8), (98762, 284.0), (77226, 108.85000000000001), (88112, 84.97)]"
      ]
     },
     "execution_count": 6,
     "metadata": {},
     "output_type": "execute_result"
    }
   ],
   "source": [
    "def func(lst):\n",
    "    returnlst = []\n",
    "    for i in lst:\n",
    "        totalcost = i[2] * i[3]\n",
    "        if (totalcost < 100):\n",
    "            totalcost += 10\n",
    "        tuplebuilder = (i[0], totalcost)\n",
    "        returnlst.append(tuplebuilder)\n",
    "    return returnlst\n",
    "func(lst[1:])"
   ]
  },
  {
   "cell_type": "code",
   "execution_count": 9,
   "id": "889a6ed5",
   "metadata": {},
   "outputs": [
    {
     "name": "stdout",
     "output_type": "stream",
     "text": [
      "[[34587, ('Learning Python, Mark Lutz', 4, 40.95)], [98762, ('Programming Python, Mark Lutz', 5, 56.8)], [77226, ('Head First Python, Paul Barry', 3, 32.95)], [88112, ('Einfuhrung in Python3, Bernd Klein', 3, 24.99)]]\n"
     ]
    }
   ],
   "source": [
    "\"\"\"\n",
    "3.\tThe same bookshop, but this time we work on a different list. The sublists of our lists look like this: \n",
    "[ordernumber, (article number, quantity, price per unit), ... (article number, quantity, price per unit) ] \n",
    "Write a program which returns a list of two tuples with (order number, total amount of order).\n",
    "\"\"\"\n",
    "lst2 = [[34587,(\"Learning Python, Mark Lutz\", 4, 40.95)],[98762,(\"Programming Python, Mark Lutz\",5,56.80)],[77226,(\"Head First Python, Paul Barry\", 3,32.95)],[88112,(\"Einfuhrung in Python3, Bernd Klein\", 3, 24.99)]]\n",
    "print(lst2)\n"
   ]
  },
  {
   "cell_type": "code",
   "execution_count": 11,
   "id": "ab23399a",
   "metadata": {},
   "outputs": [
    {
     "data": {
      "text/plain": [
       "[(34587, 163.8), (98762, 284.0), (77226, 108.85000000000001), (88112, 84.97)]"
      ]
     },
     "execution_count": 11,
     "metadata": {},
     "output_type": "execute_result"
    }
   ],
   "source": [
    "def func(lst):\n",
    "    returnlst = []\n",
    "    for i in lst:\n",
    "        totalcost = i[1][1] * i[1][2]\n",
    "        if (totalcost < 100):\n",
    "            totalcost += 10\n",
    "        tuplebuilder = (i[0], totalcost)\n",
    "        returnlst.append(tuplebuilder)\n",
    "    return returnlst\n",
    "func(lst2)"
   ]
  },
  {
   "cell_type": "code",
   "execution_count": null,
   "id": "bee2f1ad",
   "metadata": {},
   "outputs": [],
   "source": []
  }
 ],
 "metadata": {
  "kernelspec": {
   "display_name": "Python 3",
   "language": "python",
   "name": "python3"
  },
  "language_info": {
   "codemirror_mode": {
    "name": "ipython",
    "version": 3
   },
   "file_extension": ".py",
   "mimetype": "text/x-python",
   "name": "python",
   "nbconvert_exporter": "python",
   "pygments_lexer": "ipython3",
   "version": "3.8.11"
  }
 },
 "nbformat": 4,
 "nbformat_minor": 5
}
